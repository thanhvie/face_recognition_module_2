{
 "cells": [
  {
   "cell_type": "code",
   "execution_count": 1,
   "metadata": {},
   "outputs": [],
   "source": [
    "import numpy as np\n",
    "import pandas as pd\n",
    "import matplotlib.pyplot as plt\n",
    "import cv2\n",
    "from PIL import Image\n",
    "%matplotlib inline"
   ]
  },
  {
   "cell_type": "code",
   "execution_count": 4,
   "metadata": {},
   "outputs": [],
   "source": [
    "import pickle\n"
   ]
  },
  {
   "cell_type": "code",
   "execution_count": 6,
   "metadata": {},
   "outputs": [],
   "source": [
    "# Load pickle data\n",
    "df = pickle.load(open('./data/dataframe_images_100_100.pickle','rb'))"
   ]
  },
  {
   "cell_type": "code",
   "execution_count": 7,
   "metadata": {},
   "outputs": [
    {
     "data": {
      "text/html": [
       "<div>\n",
       "<style scoped>\n",
       "    .dataframe tbody tr th:only-of-type {\n",
       "        vertical-align: middle;\n",
       "    }\n",
       "\n",
       "    .dataframe tbody tr th {\n",
       "        vertical-align: top;\n",
       "    }\n",
       "\n",
       "    .dataframe thead th {\n",
       "        text-align: right;\n",
       "    }\n",
       "</style>\n",
       "<table border=\"1\" class=\"dataframe\">\n",
       "  <thead>\n",
       "    <tr style=\"text-align: right;\">\n",
       "      <th></th>\n",
       "      <th>gender</th>\n",
       "      <th>0</th>\n",
       "      <th>1</th>\n",
       "      <th>2</th>\n",
       "      <th>3</th>\n",
       "      <th>4</th>\n",
       "      <th>5</th>\n",
       "      <th>6</th>\n",
       "      <th>7</th>\n",
       "      <th>8</th>\n",
       "      <th>...</th>\n",
       "      <th>9990</th>\n",
       "      <th>9991</th>\n",
       "      <th>9992</th>\n",
       "      <th>9993</th>\n",
       "      <th>9994</th>\n",
       "      <th>9995</th>\n",
       "      <th>9996</th>\n",
       "      <th>9997</th>\n",
       "      <th>9998</th>\n",
       "      <th>9999</th>\n",
       "    </tr>\n",
       "  </thead>\n",
       "  <tbody>\n",
       "    <tr>\n",
       "      <th>0</th>\n",
       "      <td>female</td>\n",
       "      <td>19</td>\n",
       "      <td>20</td>\n",
       "      <td>20</td>\n",
       "      <td>16</td>\n",
       "      <td>17</td>\n",
       "      <td>23</td>\n",
       "      <td>30</td>\n",
       "      <td>35</td>\n",
       "      <td>38</td>\n",
       "      <td>...</td>\n",
       "      <td>210</td>\n",
       "      <td>209</td>\n",
       "      <td>196</td>\n",
       "      <td>159</td>\n",
       "      <td>31</td>\n",
       "      <td>16</td>\n",
       "      <td>12</td>\n",
       "      <td>13</td>\n",
       "      <td>11</td>\n",
       "      <td>12</td>\n",
       "    </tr>\n",
       "    <tr>\n",
       "      <th>1</th>\n",
       "      <td>female</td>\n",
       "      <td>253</td>\n",
       "      <td>253</td>\n",
       "      <td>254</td>\n",
       "      <td>254</td>\n",
       "      <td>254</td>\n",
       "      <td>254</td>\n",
       "      <td>253</td>\n",
       "      <td>253</td>\n",
       "      <td>242</td>\n",
       "      <td>...</td>\n",
       "      <td>86</td>\n",
       "      <td>58</td>\n",
       "      <td>24</td>\n",
       "      <td>18</td>\n",
       "      <td>13</td>\n",
       "      <td>13</td>\n",
       "      <td>16</td>\n",
       "      <td>18</td>\n",
       "      <td>19</td>\n",
       "      <td>16</td>\n",
       "    </tr>\n",
       "    <tr>\n",
       "      <th>2</th>\n",
       "      <td>female</td>\n",
       "      <td>15</td>\n",
       "      <td>10</td>\n",
       "      <td>9</td>\n",
       "      <td>15</td>\n",
       "      <td>20</td>\n",
       "      <td>19</td>\n",
       "      <td>18</td>\n",
       "      <td>14</td>\n",
       "      <td>14</td>\n",
       "      <td>...</td>\n",
       "      <td>32</td>\n",
       "      <td>95</td>\n",
       "      <td>134</td>\n",
       "      <td>93</td>\n",
       "      <td>82</td>\n",
       "      <td>117</td>\n",
       "      <td>51</td>\n",
       "      <td>74</td>\n",
       "      <td>44</td>\n",
       "      <td>32</td>\n",
       "    </tr>\n",
       "    <tr>\n",
       "      <th>3</th>\n",
       "      <td>female</td>\n",
       "      <td>255</td>\n",
       "      <td>255</td>\n",
       "      <td>255</td>\n",
       "      <td>255</td>\n",
       "      <td>255</td>\n",
       "      <td>255</td>\n",
       "      <td>254</td>\n",
       "      <td>255</td>\n",
       "      <td>255</td>\n",
       "      <td>...</td>\n",
       "      <td>106</td>\n",
       "      <td>105</td>\n",
       "      <td>105</td>\n",
       "      <td>108</td>\n",
       "      <td>112</td>\n",
       "      <td>112</td>\n",
       "      <td>115</td>\n",
       "      <td>116</td>\n",
       "      <td>117</td>\n",
       "      <td>118</td>\n",
       "    </tr>\n",
       "    <tr>\n",
       "      <th>4</th>\n",
       "      <td>female</td>\n",
       "      <td>145</td>\n",
       "      <td>139</td>\n",
       "      <td>140</td>\n",
       "      <td>131</td>\n",
       "      <td>136</td>\n",
       "      <td>118</td>\n",
       "      <td>126</td>\n",
       "      <td>123</td>\n",
       "      <td>108</td>\n",
       "      <td>...</td>\n",
       "      <td>93</td>\n",
       "      <td>90</td>\n",
       "      <td>82</td>\n",
       "      <td>81</td>\n",
       "      <td>88</td>\n",
       "      <td>102</td>\n",
       "      <td>82</td>\n",
       "      <td>89</td>\n",
       "      <td>98</td>\n",
       "      <td>97</td>\n",
       "    </tr>\n",
       "  </tbody>\n",
       "</table>\n",
       "<p>5 rows × 10001 columns</p>\n",
       "</div>"
      ],
      "text/plain": [
       "   gender    0    1    2    3    4    5    6    7    8  ...  9990  9991  9992  \\\n",
       "0  female   19   20   20   16   17   23   30   35   38  ...   210   209   196   \n",
       "1  female  253  253  254  254  254  254  253  253  242  ...    86    58    24   \n",
       "2  female   15   10    9   15   20   19   18   14   14  ...    32    95   134   \n",
       "3  female  255  255  255  255  255  255  254  255  255  ...   106   105   105   \n",
       "4  female  145  139  140  131  136  118  126  123  108  ...    93    90    82   \n",
       "\n",
       "   9993  9994  9995  9996  9997  9998  9999  \n",
       "0   159    31    16    12    13    11    12  \n",
       "1    18    13    13    16    18    19    16  \n",
       "2    93    82   117    51    74    44    32  \n",
       "3   108   112   112   115   116   117   118  \n",
       "4    81    88   102    82    89    98    97  \n",
       "\n",
       "[5 rows x 10001 columns]"
      ]
     },
     "execution_count": 7,
     "metadata": {},
     "output_type": "execute_result"
    }
   ],
   "source": [
    "df.head()"
   ]
  },
  {
   "cell_type": "code",
   "execution_count": 8,
   "metadata": {},
   "outputs": [
    {
     "name": "stdout",
     "output_type": "stream",
     "text": [
      "<class 'pandas.core.frame.DataFrame'>\n",
      "Int64Index: 5450 entries, 0 to 6043\n",
      "Columns: 10001 entries, gender to 9999\n",
      "dtypes: object(1), uint8(10000)\n",
      "memory usage: 52.1+ MB\n"
     ]
    }
   ],
   "source": [
    "df.info()"
   ]
  },
  {
   "cell_type": "code",
   "execution_count": 10,
   "metadata": {},
   "outputs": [
    {
     "data": {
      "text/plain": [
       "gender    0\n",
       "0         0\n",
       "1         0\n",
       "2         0\n",
       "3         0\n",
       "         ..\n",
       "9995      0\n",
       "9996      0\n",
       "9997      0\n",
       "9998      0\n",
       "9999      0\n",
       "Length: 10001, dtype: int64"
      ]
     },
     "execution_count": 10,
     "metadata": {},
     "output_type": "execute_result"
    }
   ],
   "source": [
    "#checking for missing values\n",
    "df.isnull().sum()"
   ]
  },
  {
   "cell_type": "markdown",
   "metadata": {},
   "source": [
    "# Data Preprocessing\n",
    "- Remove missing\n",
    "- Data Normalization (min max scaling)"
   ]
  },
  {
   "cell_type": "code",
   "execution_count": 11,
   "metadata": {},
   "outputs": [],
   "source": [
    "# remove missing value\n",
    "df.dropna(axis=0,inplace=True)"
   ]
  },
  {
   "cell_type": "code",
   "execution_count": 13,
   "metadata": {},
   "outputs": [
    {
     "data": {
      "text/plain": [
       "gender    0\n",
       "0         0\n",
       "1         0\n",
       "2         0\n",
       "3         0\n",
       "         ..\n",
       "9995      0\n",
       "9996      0\n",
       "9997      0\n",
       "9998      0\n",
       "9999      0\n",
       "Length: 10001, dtype: int64"
      ]
     },
     "execution_count": 13,
     "metadata": {},
     "output_type": "execute_result"
    }
   ],
   "source": [
    "df.isnull().sum()"
   ]
  },
  {
   "cell_type": "code",
   "execution_count": 14,
   "metadata": {},
   "outputs": [],
   "source": [
    "# split the data into two parts\n",
    "X = df.iloc[:,1:].values\n",
    "y = df.iloc[:,0].values"
   ]
  },
  {
   "cell_type": "code",
   "execution_count": 16,
   "metadata": {},
   "outputs": [
    {
     "data": {
      "text/plain": [
       "(5450, 10000)"
      ]
     },
     "execution_count": 16,
     "metadata": {},
     "output_type": "execute_result"
    }
   ],
   "source": [
    "X.shape"
   ]
  },
  {
   "cell_type": "code",
   "execution_count": 17,
   "metadata": {},
   "outputs": [
    {
     "data": {
      "text/plain": [
       "(0, 255)"
      ]
     },
     "execution_count": 17,
     "metadata": {},
     "output_type": "execute_result"
    }
   ],
   "source": [
    "X.min(), X.max()"
   ]
  },
  {
   "cell_type": "code",
   "execution_count": 18,
   "metadata": {},
   "outputs": [],
   "source": [
    "Xnorm = X/ X.max()"
   ]
  },
  {
   "cell_type": "code",
   "execution_count": 19,
   "metadata": {},
   "outputs": [
    {
     "data": {
      "text/plain": [
       "array([[0.0745098 , 0.07843137, 0.07843137, ..., 0.05098039, 0.04313725,\n",
       "        0.04705882],\n",
       "       [0.99215686, 0.99215686, 0.99607843, ..., 0.07058824, 0.0745098 ,\n",
       "        0.0627451 ],\n",
       "       [0.05882353, 0.03921569, 0.03529412, ..., 0.29019608, 0.17254902,\n",
       "        0.1254902 ],\n",
       "       ...,\n",
       "       [0.94117647, 0.93333333, 0.9254902 , ..., 0.8627451 , 0.8627451 ,\n",
       "        0.8627451 ],\n",
       "       [0.88235294, 0.87058824, 0.85490196, ..., 0.30196078, 0.32941176,\n",
       "        0.30588235],\n",
       "       [0.36078431, 0.36078431, 0.35294118, ..., 0.91372549, 0.92156863,\n",
       "        0.91764706]])"
      ]
     },
     "execution_count": 19,
     "metadata": {},
     "output_type": "execute_result"
    }
   ],
   "source": [
    "Xnorm"
   ]
  },
  {
   "cell_type": "code",
   "execution_count": 20,
   "metadata": {},
   "outputs": [
    {
     "data": {
      "text/plain": [
       "(5450, 10000)"
      ]
     },
     "execution_count": 20,
     "metadata": {},
     "output_type": "execute_result"
    }
   ],
   "source": [
    "Xnorm.shape"
   ]
  },
  {
   "cell_type": "code",
   "execution_count": 21,
   "metadata": {},
   "outputs": [
    {
     "data": {
      "text/plain": [
       "array(['female', 'female', 'female', ..., 'male', 'male', 'male'],\n",
       "      dtype=object)"
      ]
     },
     "execution_count": 21,
     "metadata": {},
     "output_type": "execute_result"
    }
   ],
   "source": [
    "y"
   ]
  },
  {
   "cell_type": "code",
   "execution_count": 22,
   "metadata": {},
   "outputs": [],
   "source": [
    "y_norm = np.where(y=='female',1,0)"
   ]
  },
  {
   "cell_type": "code",
   "execution_count": 23,
   "metadata": {},
   "outputs": [
    {
     "data": {
      "text/plain": [
       "array([1, 1, 1, ..., 0, 0, 0])"
      ]
     },
     "execution_count": 23,
     "metadata": {},
     "output_type": "execute_result"
    }
   ],
   "source": [
    "y_norm"
   ]
  },
  {
   "cell_type": "code",
   "execution_count": 25,
   "metadata": {},
   "outputs": [],
   "source": [
    "#saving x and y\n",
    "np.savez('./data/data_100_100_norm', Xnorm, y_norm)"
   ]
  }
 ],
 "metadata": {
  "interpreter": {
   "hash": "09fd58f6cc5142169c60d07b06877c47c0247ed25f597c2501b3298b04363956"
  },
  "kernelspec": {
   "display_name": "Python 3.8.10 ('env': venv)",
   "language": "python",
   "name": "python3"
  },
  "language_info": {
   "codemirror_mode": {
    "name": "ipython",
    "version": 3
   },
   "file_extension": ".py",
   "mimetype": "text/x-python",
   "name": "python",
   "nbconvert_exporter": "python",
   "pygments_lexer": "ipython3",
   "version": "3.8.10"
  },
  "orig_nbformat": 4
 },
 "nbformat": 4,
 "nbformat_minor": 2
}
